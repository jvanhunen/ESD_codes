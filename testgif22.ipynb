{
 "cells": [
  {
   "cell_type": "code",
   "execution_count": 3,
   "metadata": {},
   "outputs": [
    {
     "data": {
      "text/html": [
       "<img src=\"line3.gif\"/>"
      ],
      "text/plain": [
       "<IPython.core.display.Image object>"
      ]
     },
     "execution_count": 3,
     "metadata": {},
     "output_type": "execute_result"
    },
    {
     "data": {
      "image/png": "[encoded data removed]",
      "text/plain": [
       "<Figure size 432x288 with 1 Axes>"
      ]
     },
     "metadata": {
      "needs_background": "light"
     },
     "output_type": "display_data"
    }
   ],
   "source": [
    "import numpy as np\n",
    "from matplotlib import pyplot as plt\n",
    "from matplotlib import animation\n",
    "from IPython.display import Image\n",
    "\n",
    "# First set up the figure, the axis, and the plot element we want to animate\n",
    "fig = plt.figure()\n",
    "ax = plt.axes(xlim=(5, 15), ylim=(0, 2))\n",
    "ax.set_ylim(ax.get_ylim()[::-1])\n",
    "ax.set_xlabel('T$(^oC)$')\n",
    "ax.set_ylabel('z(m)')\n",
    "# ax=plt.gca()\n",
    "line, = ax.plot([], [], lw=2)\n",
    "\n",
    "# initialization function: plot the background of each frame\n",
    "def init():\n",
    "    # Initialisation of the parameters:\n",
    "    T0     = 10            # Average surface temperature\n",
    "    dT     = 5             # Temperature fluctuation\n",
    "    kappa  = 1e-6          # Thermal diffusivity\n",
    "    tau    = 24*60*60      # period of oscillation (1 day)\n",
    "    zmax   = 2             # Max depth to calculate/plot\n",
    "    nz     = 100           # number of depth for plotting\n",
    "    tmax   = 24*60*60      # Max depth to calculate/plot \n",
    "    nt     = 24            # number of timesteps for plotting\n",
    "    tplot  = 1*60*60       # time of snapshot for plotting (in sec)\n",
    "    zplot  = 0.5           # depth for plot (in m)\n",
    "\n",
    "    omega  = 2*np.pi/tau\n",
    "    z      = np.linspace(0,zmax,nz)       # create depth array\n",
    "    t      = np.linspace(0,tmax,nt)       # create depth array\n",
    "\n",
    "    # plot of T against z for one specific time step:\n",
    "    zphase = z*np.sqrt(omega/(2*kappa))   # pre-calc z phase delay\n",
    "    i=0\n",
    "    Tz     = T0 + dT*np.exp(-zphase)*np.cos(omega*tplot*i-zphase) \n",
    "    line.set_data(Tz,z)\n",
    "    return line,\n",
    "\n",
    "# animation function.  This is called sequentially\n",
    "def animate(i):\n",
    "    # Initialisation of the parameters:\n",
    "    T0     = 10            # Average surface temperature\n",
    "    dT     = 5             # Temperature fluctuation\n",
    "    kappa  = 1e-6          # Thermal diffusivity\n",
    "    tau    = 24*60*60      # period of oscillation (1 day)\n",
    "    zmax   = 2             # Max depth to calculate/plot\n",
    "    nz     = 100           # number of depth for plotting\n",
    "    tmax   = 24*60*60      # Max depth to calculate/plot \n",
    "    nt     = 24            # number of timesteps for plotting\n",
    "    tplot  = 1*60*60       # time of snapshot for plotting (in sec)\n",
    "    zplot  = 0.5           # depth for plot (in m)\n",
    "\n",
    "    omega  = 2*np.pi/tau\n",
    "    z      = np.linspace(0,zmax,nz)       # create depth array\n",
    "    t      = np.linspace(0,tmax,nt)       # create depth array\n",
    "\n",
    "    # plot of T against z for one specific time step:\n",
    "    zphase = z*np.sqrt(omega/(2*kappa))   # pre-calc z phase delay\n",
    "    Tz     = T0 + dT*np.exp(-zphase)*np.cos(omega*tplot*i-zphase) \n",
    "    line.set_data(Tz,z)\n",
    "    ax.set_title('T-distribution against depth for t=%1.0f:00 hour' %(tplot*i/60/60))\n",
    "    return line,\n",
    "\n",
    "# call the animator.  blit=True means only re-draw the parts that have changed.\n",
    "anim = animation.FuncAnimation(fig, animate, init_func=init,\n",
    "                               frames=24, interval=50, blit=True)\n",
    "anim.save('line3.gif', dpi=80, writer='pillow')\n",
    "\n",
    "Image(url='line3.gif')  "
   ]
  },
  {
   "cell_type": "code",
   "execution_count": null,
   "metadata": {},
   "outputs": [],
   "source": []
  },
  {
   "cell_type": "code",
   "execution_count": null,
   "metadata": {},
   "outputs": [],
   "source": []
  }
 ],
 "metadata": {
  "kernelspec": {
   "display_name": "Python 3",
   "language": "python",
   "name": "python3"
  },
  "language_info": {
   "codemirror_mode": {
    "name": "ipython",
    "version": 3
   },
   "file_extension": ".py",
   "mimetype": "text/x-python",
   "name": "python",
   "nbconvert_exporter": "python",
   "pygments_lexer": "ipython3",
   "version": "3.7.4"
  }
 },
 "nbformat": 4,
 "nbformat_minor": 2
}
