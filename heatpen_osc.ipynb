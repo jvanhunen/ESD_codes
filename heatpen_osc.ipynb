{
 "cells": [
  {
   "cell_type": "code",
   "execution_count": 5,
   "metadata": {
    "tags": [
     "hide_input"
    ]
   },
   "outputs": [
    {
     "data": {
      "image/png": "[encoded data removed]",
      "text/plain": [
       "<Figure size 432x288 with 1 Axes>"
      ]
     },
     "metadata": {
      "needs_background": "light"
     },
     "output_type": "display_data"
    },
    {
     "ename": "AttributeError",
     "evalue": "'function' object has no attribute 'savefig'",
     "output_type": "error",
     "traceback": [
      "\u001b[0;31m---------------------------------------------------------------------------\u001b[0m",
      "\u001b[0;31mAttributeError\u001b[0m                            Traceback (most recent call last)",
      "\u001b[0;32m<ipython-input-5-e244c71482e2>\u001b[0m in \u001b[0;36m<module>\u001b[0;34m\u001b[0m\n\u001b[1;32m     42\u001b[0m \u001b[0max\u001b[0m\u001b[0;34m.\u001b[0m\u001b[0mset_ylim\u001b[0m\u001b[0;34m(\u001b[0m\u001b[0max\u001b[0m\u001b[0;34m.\u001b[0m\u001b[0mget_ylim\u001b[0m\u001b[0;34m(\u001b[0m\u001b[0;34m)\u001b[0m\u001b[0;34m[\u001b[0m\u001b[0;34m:\u001b[0m\u001b[0;34m:\u001b[0m\u001b[0;34m-\u001b[0m\u001b[0;36m1\u001b[0m\u001b[0;34m]\u001b[0m\u001b[0;34m)\u001b[0m\u001b[0;34m\u001b[0m\u001b[0;34m\u001b[0m\u001b[0m\n\u001b[1;32m     43\u001b[0m \u001b[0mplt\u001b[0m\u001b[0;34m.\u001b[0m\u001b[0mshow\u001b[0m\u001b[0;34m(\u001b[0m\u001b[0;34m)\u001b[0m\u001b[0;34m\u001b[0m\u001b[0;34m\u001b[0m\u001b[0m\n\u001b[0;32m---> 44\u001b[0;31m \u001b[0mplt\u001b[0m\u001b[0;34m.\u001b[0m\u001b[0mfigure\u001b[0m\u001b[0;34m.\u001b[0m\u001b[0msavefig\u001b[0m\u001b[0;34m(\u001b[0m\u001b[0;34m'solar_heat_Tz.png'\u001b[0m\u001b[0;34m)\u001b[0m\u001b[0;34m\u001b[0m\u001b[0;34m\u001b[0m\u001b[0m\n\u001b[0m\u001b[1;32m     45\u001b[0m \u001b[0;34m\u001b[0m\u001b[0m\n\u001b[1;32m     46\u001b[0m \u001b[0;31m# Plot t-solution:\u001b[0m\u001b[0;34m\u001b[0m\u001b[0;34m\u001b[0m\u001b[0;34m\u001b[0m\u001b[0m\n",
      "\u001b[0;31mAttributeError\u001b[0m: 'function' object has no attribute 'savefig'"
     ]
    }
   ],
   "source": [
    "# heatpen_osc\n",
    "# Calculating daily or yearly heat penetration into the ground\n",
    "# \n",
    "# Earth Structure and Dynamics 2021, week 1, question 4\n",
    "# Jeroen van Hunen, 20200426\n",
    "\n",
    "import numpy as np\n",
    "import matplotlib.pyplot as plt\n",
    "\n",
    "# Initialisation of the parameters:\n",
    "T0     = 10            # Average surface temperature\n",
    "dT     = 5             # Temperature fluctuation\n",
    "kappa  = 1e-6          # Thermal diffusivity\n",
    "tau    = 24*60*60      # period of oscillation (1 day)\n",
    "zmax   = 2             # Max depth to calculate/plot\n",
    "nz     = 100           # number of depth for plotting\n",
    "tmax   = 24*60*60      # Max depth to calculate/plot \n",
    "nt     = 24            # number of timesteps for plotting\n",
    "tplot  = 6*60*60       # time of snapshot for plotting (in sec)\n",
    "zplot  = 0.5           # depth for plot (in m)\n",
    "\n",
    "omega  = 2*np.pi/tau\n",
    "z      = np.linspace(0,zmax,nz)       # create depth array\n",
    "t      = np.linspace(0,tmax,nt)       # create depth array\n",
    "\n",
    "# plot of T against z for one specific time step:\n",
    "zphase = z*np.sqrt(omega/(2*kappa))   # pre-calc z phase delay\n",
    "Tz     = T0 + dT*np.exp(-zphase)*np.cos(omega*tplot-zphase) \n",
    "\n",
    "# plot of T against time for one specific depth:\n",
    "zphase = zplot*np.sqrt(omega/(2*kappa))   # pre-calc z phase delay\n",
    "Tt     = T0 + dT*np.exp(-zphase)*np.cos(omega*t-zphase) \n",
    "\n",
    "# Plot z-solution:\n",
    "plt.clf()\n",
    "plt.figure(1)\n",
    "plt.plot (Tz,z,'-')\n",
    "plt.xlabel('T$(^oC)$')\n",
    "plt.ylabel('z(m)')\n",
    "plt.title('T-distribution against depth after t=%1.1f hours' %(tplot/60/60))\n",
    "ax=plt.gca()\n",
    "ax.set_ylim(ax.get_ylim()[::-1])\n",
    "plt.show()\n",
    "plt.savefig('solar_heat_Tz.png')\n",
    "\n",
    "# Plot t-solution:\n",
    "plt.figure(2)\n",
    "plt.plot (t,Tt,'-')\n",
    "plt.xlabel('t(sec)')\n",
    "plt.ylabel('T$(^oC)$')\n",
    "plt.title('T-distribution in time at z=%1.1f m' %zplot)\n",
    "plt.show()\n",
    "plt.savefig('solar_heat_Tt.png')"
   ]
  },
  {
   "cell_type": "code",
   "execution_count": null,
   "metadata": {},
   "outputs": [],
   "source": []
  }
 ],
 "metadata": {
  "celltoolbar": "Tags",
  "kernelspec": {
   "display_name": "Python 3",
   "language": "python",
   "name": "python3"
  },
  "language_info": {
   "codemirror_mode": {
    "name": "ipython",
    "version": 3
   },
   "file_extension": ".py",
   "mimetype": "text/x-python",
   "name": "python",
   "nbconvert_exporter": "python",
   "pygments_lexer": "ipython3",
   "version": "3.7.4"
  }
 },
 "nbformat": 4,
 "nbformat_minor": 4
}
